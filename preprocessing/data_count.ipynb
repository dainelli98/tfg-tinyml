{
 "cells": [
  {
   "cell_type": "markdown",
   "metadata": {
    "collapsed": true,
    "pycharm": {
     "name": "#%% md\n"
    }
   },
   "source": [
    "# Contado de datos\n",
    "En este notebook se comprueba el numero de muestras tanto de datos de imagen como de sonido disponibles en el directorio de muestras del proyecto."
   ]
  },
  {
   "cell_type": "markdown",
   "source": [
    "## Imports"
   ],
   "metadata": {
    "collapsed": false,
    "pycharm": {
     "name": "#%% md\n"
    }
   }
  },
  {
   "cell_type": "code",
   "execution_count": 24,
   "outputs": [],
   "source": [
    "from data_count import print_class_count"
   ],
   "metadata": {
    "collapsed": false,
    "pycharm": {
     "name": "#%%\n"
    }
   }
  },
  {
   "cell_type": "markdown",
   "source": [
    "## Muestras obtenidas con microcontrolador\n",
    "### Muestras de sonido"
   ],
   "metadata": {
    "collapsed": false,
    "pycharm": {
     "name": "#%% md\n"
    }
   }
  },
  {
   "cell_type": "code",
   "execution_count": 25,
   "outputs": [
    {
     "name": "stdout",
     "output_type": "stream",
     "text": [
      "Datos: Audio con microcontrolador\n",
      "\t127 muestras de la clase yes.\n",
      "\t105 muestras de la clase silence.\n",
      "\t118 muestras de la clase no.\n",
      "\t102 muestras de la clase unknown.\n"
     ]
    }
   ],
   "source": [
    "print_class_count(\"../samples/microcontroller/audio\", data_desc=\"Audio con microcontrolador\")"
   ],
   "metadata": {
    "collapsed": false,
    "pycharm": {
     "name": "#%%\n"
    }
   }
  },
  {
   "cell_type": "markdown",
   "source": [
    "### Muestras de imagen"
   ],
   "metadata": {
    "collapsed": false,
    "pycharm": {
     "name": "#%% md\n"
    }
   }
  },
  {
   "cell_type": "code",
   "execution_count": 26,
   "outputs": [
    {
     "name": "stdout",
     "output_type": "stream",
     "text": [
      "Datos: Imagen con microcontrolador\n",
      "\t119 muestras de la clase face.\n",
      "\t120 muestras de la clase mask.\n",
      "\t104 muestras de la clase nothing.\n"
     ]
    }
   ],
   "source": [
    "print_class_count(\"../samples/microcontroller/image\", data_desc=\"Imagen con microcontrolador\")"
   ],
   "metadata": {
    "collapsed": false,
    "pycharm": {
     "name": "#%%\n"
    }
   }
  },
  {
   "cell_type": "markdown",
   "source": [
    "## Muestras externas\n",
    "### Muestras de sonido"
   ],
   "metadata": {
    "collapsed": false
   }
  },
  {
   "cell_type": "code",
   "execution_count": 27,
   "outputs": [
    {
     "name": "stdout",
     "output_type": "stream",
     "text": [
      "Datos: Audio externo\n",
      "\t4044 muestras de la clase yes.\n",
      "\t4021 muestras de la clase silence.\n",
      "\t3941 muestras de la clase no.\n",
      "\t4148 muestras de la clase unknown.\n"
     ]
    }
   ],
   "source": [
    "print_class_count(\"../samples/external/audio\", data_desc=\"Audio externo\")"
   ],
   "metadata": {
    "collapsed": false,
    "pycharm": {
     "name": "#%%\n"
    }
   }
  },
  {
   "cell_type": "markdown",
   "source": [
    "### Muestras de imagen"
   ],
   "metadata": {
    "collapsed": false
   }
  },
  {
   "cell_type": "code",
   "execution_count": 28,
   "outputs": [
    {
     "name": "stdout",
     "output_type": "stream",
     "text": [
      "Datos: Imagen externa\n",
      "\t5000 muestras de la clase face.\n",
      "\t5000 muestras de la clase mask.\n",
      "\t5000 muestras de la clase nothing.\n"
     ]
    }
   ],
   "source": [
    "print_class_count(\"../samples/external/image\", data_desc=\"Imagen externa\")"
   ],
   "metadata": {
    "collapsed": false,
    "pycharm": {
     "name": "#%%\n"
    }
   }
  }
 ],
 "metadata": {
  "kernelspec": {
   "display_name": "Python 3",
   "language": "python",
   "name": "python3"
  },
  "language_info": {
   "codemirror_mode": {
    "name": "ipython",
    "version": 2
   },
   "file_extension": ".py",
   "mimetype": "text/x-python",
   "name": "python",
   "nbconvert_exporter": "python",
   "pygments_lexer": "ipython2",
   "version": "2.7.6"
  }
 },
 "nbformat": 4,
 "nbformat_minor": 0
}