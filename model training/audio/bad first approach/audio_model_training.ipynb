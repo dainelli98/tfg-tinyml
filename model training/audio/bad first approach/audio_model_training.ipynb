{
 "cells": [
  {
   "cell_type": "markdown",
   "metadata": {
    "collapsed": true,
    "pycharm": {
     "name": "#%% md\n"
    }
   },
   "source": [
    "# Audio Model training\n",
    "En este notebook se realizará el entrenamiento de los modelos de aprendizaje automático relacionados con el audio.\n",
    "## Imports"
   ]
  },
  {
   "cell_type": "code",
   "execution_count": 1,
   "outputs": [],
   "source": [
    "import os\n",
    "from audio_model_training import *\n",
    "import tensorflow as tf"
   ],
   "metadata": {
    "collapsed": false,
    "pycharm": {
     "name": "#%%\n"
    }
   }
  },
  {
   "cell_type": "markdown",
   "source": [
    "## Parámetros\n",
    "Indicamos los parámetros del modelo que se quiere entrenar.\n",
    "\n",
    "### Classes"
   ],
   "metadata": {
    "collapsed": false,
    "pycharm": {
     "name": "#%% md\n"
    }
   }
  },
  {
   "cell_type": "code",
   "execution_count": 2,
   "outputs": [],
   "source": [
    "classes = [\"yes\", \"no\", \"unknown\", \"silence\"]\n",
    "nclasses = len(classes)"
   ],
   "metadata": {
    "collapsed": false,
    "pycharm": {
     "name": "#%%\n"
    }
   }
  },
  {
   "cell_type": "markdown",
   "source": [
    "### Training settings"
   ],
   "metadata": {
    "collapsed": false,
    "pycharm": {
     "name": "#%% md\n"
    }
   }
  },
  {
   "cell_type": "code",
   "execution_count": 3,
   "outputs": [],
   "source": [
    "tiny_model = True\n",
    "training_steps = [1000, 500]    # [12000, 3000]\n",
    "total_steps = np.sum(np.array(training_steps))\n",
    "learning_rates = [0.001, 0.0001]\n",
    "validation_percentage = 10\n",
    "test_percentage = 10\n",
    "seed = 256432\n",
    "project_dir = \"/home/daniel/PycharmProjects/tfg-tinyml\"\n",
    "batch_size = 100\n",
    "# model_architecture = \"tiny_conv\""
   ],
   "metadata": {
    "collapsed": false,
    "pycharm": {
     "name": "#%%\n"
    }
   }
  },
  {
   "cell_type": "markdown",
   "source": [
    "### Input settings"
   ],
   "metadata": {
    "collapsed": false,
    "pycharm": {
     "name": "#%% md\n"
    }
   }
  },
  {
   "cell_type": "code",
   "execution_count": 4,
   "outputs": [],
   "source": [
    "sample_rate = 16000     # Hz\n",
    "window_stride = 20      # ms\n",
    "sample_length = 1000    # ms\n",
    "window_size = 30.0      # ms\n",
    "time_shift = 100.0      # ms\n",
    "feature_bin_count = 40\n",
    "background_frequency = 0.8\n",
    "background_volume_range = 1.0\n",
    "data_dir = f\"{project_dir}/samples/microcontroller/audio\"\n",
    "test_dir = f\"{project_dir}/saved models/test_lists\"\n",
    "nwindows = window_count(sample_length, window_size, window_stride)\n",
    "input_shape = (1, nwindows * feature_bin_count)\n",
    "# preprocess = micro"
   ],
   "metadata": {
    "collapsed": false,
    "pycharm": {
     "name": "#%%\n"
    }
   }
  },
  {
   "cell_type": "markdown",
   "source": [
    "### Output settings"
   ],
   "metadata": {
    "collapsed": false,
    "pycharm": {
     "name": "#%% md\n"
    }
   }
  },
  {
   "cell_type": "code",
   "execution_count": 5,
   "outputs": [],
   "source": [
    "models_dir = f\"{project_dir}/saved models\"\n",
    "tf_dir = f\"{project_dir}/saved models/tensor flow\"\n",
    "tf_lite_dir = f\"{project_dir}/saved models/tensor flow lite\"\n",
    "tf_lite_micro_dir = f\"{project_dir}/saved models/tensor flow lite for microcontrollers\"\n",
    "model_name = \"microcontroller_data_model\"\n",
    "model_tf = os.path.join(tf_dir, f\"{model_name}.pb\")\n",
    "model_tf_lite = os.path.join(tf_lite_dir, f\"{model_name}.tflite\")\n",
    "model_tf_lite_micro = os.path.join(tf_lite_micro_dir, f\"{model_name}.cc\")\n",
    "train_dir = f\"{project_dir}/saved models/train\"\n",
    "logs_dir = f\"{models_dir}/summaries/{model_name}\"\n",
    "label_index_dir = f\"{project_dir}/saved models/label index mappings\""
   ],
   "metadata": {
    "collapsed": false,
    "pycharm": {
     "name": "#%%\n"
    }
   }
  },
  {
   "cell_type": "markdown",
   "source": [
    "## Tensor Flow model training\n",
    "Entrenamos el modelo de TensorFlow con los parámetros que se han indicado."
   ],
   "metadata": {
    "collapsed": false,
    "pycharm": {
     "name": "#%% md\n"
    }
   }
  },
  {
   "cell_type": "code",
   "execution_count": 6,
   "outputs": [
    {
     "name": "stdout",
     "output_type": "stream",
     "text": [
      "Frontend disponible.\n",
      "Usando modelo TinyConv.\n",
      "INFO:tensorflow:Training from step: 1 \n",
      "Training step: 1\n"
     ]
    },
    {
     "ename": "InvalidArgumentError",
     "evalue": "You must feed a value for placeholder tensor 'data/foreground_volume' with dtype float\n\t [[node data/foreground_volume (defined at /home/daniel/PycharmProjects/tfg-tinyml/model training/audio_processor.py:153) ]]\n\nOriginal stack trace for 'data/foreground_volume':\n  File \"/usr/lib/python3.8/runpy.py\", line 194, in _run_module_as_main\n    return _run_code(code, main_globals, None,\n  File \"/usr/lib/python3.8/runpy.py\", line 87, in _run_code\n    exec(code, run_globals)\n  File \"/home/daniel/.local/lib/python3.8/site-packages/ipykernel_launcher.py\", line 16, in <module>\n    app.launch_new_instance()\n  File \"/home/daniel/.local/lib/python3.8/site-packages/traitlets/config/application.py\", line 845, in launch_instance\n    app.start()\n  File \"/home/daniel/.local/lib/python3.8/site-packages/ipykernel/kernelapp.py\", line 612, in start\n    self.io_loop.start()\n  File \"/home/daniel/.local/lib/python3.8/site-packages/tornado/platform/asyncio.py\", line 199, in start\n    self.asyncio_loop.run_forever()\n  File \"/usr/lib/python3.8/asyncio/base_events.py\", line 570, in run_forever\n    self._run_once()\n  File \"/usr/lib/python3.8/asyncio/base_events.py\", line 1859, in _run_once\n    handle._run()\n  File \"/usr/lib/python3.8/asyncio/events.py\", line 81, in _run\n    self._context.run(self._callback, *self._args)\n  File \"/home/daniel/.local/lib/python3.8/site-packages/tornado/ioloop.py\", line 688, in <lambda>\n    lambda f: self._run_callback(functools.partial(callback, future))\n  File \"/home/daniel/.local/lib/python3.8/site-packages/tornado/ioloop.py\", line 741, in _run_callback\n    ret = callback()\n  File \"/home/daniel/.local/lib/python3.8/site-packages/tornado/gen.py\", line 814, in inner\n    self.ctx_run(self.run)\n  File \"/home/daniel/.local/lib/python3.8/site-packages/tornado/gen.py\", line 775, in run\n    yielded = self.gen.send(value)\n  File \"/home/daniel/.local/lib/python3.8/site-packages/ipykernel/kernelbase.py\", line 378, in dispatch_queue\n    yield self.process_one()\n  File \"/home/daniel/.local/lib/python3.8/site-packages/tornado/gen.py\", line 250, in wrapper\n    runner = Runner(ctx_run, result, future, yielded)\n  File \"/home/daniel/.local/lib/python3.8/site-packages/tornado/gen.py\", line 741, in __init__\n    self.ctx_run(self.run)\n  File \"/home/daniel/.local/lib/python3.8/site-packages/tornado/gen.py\", line 775, in run\n    yielded = self.gen.send(value)\n  File \"/home/daniel/.local/lib/python3.8/site-packages/ipykernel/kernelbase.py\", line 362, in process_one\n    yield gen.maybe_future(dispatch(*args))\n  File \"/home/daniel/.local/lib/python3.8/site-packages/tornado/gen.py\", line 234, in wrapper\n    yielded = ctx_run(next, result)\n  File \"/home/daniel/.local/lib/python3.8/site-packages/ipykernel/kernelbase.py\", line 265, in dispatch_shell\n    yield gen.maybe_future(handler(stream, idents, msg))\n  File \"/home/daniel/.local/lib/python3.8/site-packages/tornado/gen.py\", line 234, in wrapper\n    yielded = ctx_run(next, result)\n  File \"/home/daniel/.local/lib/python3.8/site-packages/ipykernel/kernelbase.py\", line 540, in execute_request\n    self.do_execute(\n  File \"/home/daniel/.local/lib/python3.8/site-packages/tornado/gen.py\", line 234, in wrapper\n    yielded = ctx_run(next, result)\n  File \"/home/daniel/.local/lib/python3.8/site-packages/ipykernel/ipkernel.py\", line 302, in do_execute\n    res = shell.run_cell(code, store_history=store_history, silent=silent)\n  File \"/home/daniel/.local/lib/python3.8/site-packages/ipykernel/zmqshell.py\", line 539, in run_cell\n    return super(ZMQInteractiveShell, self).run_cell(*args, **kwargs)\n  File \"/home/daniel/.local/lib/python3.8/site-packages/IPython/core/interactiveshell.py\", line 2886, in run_cell\n    result = self._run_cell(\n  File \"/home/daniel/.local/lib/python3.8/site-packages/IPython/core/interactiveshell.py\", line 2932, in _run_cell\n    return runner(coro)\n  File \"/home/daniel/.local/lib/python3.8/site-packages/IPython/core/async_helpers.py\", line 68, in _pseudo_sync_runner\n    coro.send(None)\n  File \"/home/daniel/.local/lib/python3.8/site-packages/IPython/core/interactiveshell.py\", line 3155, in run_cell_async\n    has_raised = await self.run_ast_nodes(code_ast.body, cell_name,\n  File \"/home/daniel/.local/lib/python3.8/site-packages/IPython/core/interactiveshell.py\", line 3347, in run_ast_nodes\n    if (await self.run_code(code, result,  async_=asy)):\n  File \"/home/daniel/.local/lib/python3.8/site-packages/IPython/core/interactiveshell.py\", line 3427, in run_code\n    exec(code_obj, self.user_global_ns, self.user_ns)\n  File \"<ipython-input-6-81ce66515051>\", line 3, in <module>\n    train_model(data_dir, test_dir, train_dir, logs_dir, label_index_dir, classes, sample_rate, sample_length, window_size,\n  File \"/home/daniel/PycharmProjects/tfg-tinyml/model training/audio_model_training.py\", line 244, in train_model\n    audio_processor = AudioProcessor(data_dir, test_dir, logs_dir, label_index_dir, classes, sample_rate,\n  File \"/home/daniel/PycharmProjects/tfg-tinyml/model training/audio_processor.py\", line 96, in __init__\n    self.prepare_processing_protocol(model_settings)\n  File \"/home/daniel/PycharmProjects/tfg-tinyml/model training/audio_processor.py\", line 153, in prepare_processing_protocol\n    self.foreground_volume_placeholder_ = tf.compat.v1.placeholder(tf.float32, [], name='foreground_volume')\n  File \"/home/daniel/.local/lib/python3.8/site-packages/tensorflow/python/ops/array_ops.py\", line 3179, in placeholder\n    return gen_array_ops.placeholder(dtype=dtype, shape=shape, name=name)\n  File \"/home/daniel/.local/lib/python3.8/site-packages/tensorflow/python/ops/gen_array_ops.py\", line 6725, in placeholder\n    _, _, _op, _outputs = _op_def_library._apply_op_helper(\n  File \"/home/daniel/.local/lib/python3.8/site-packages/tensorflow/python/framework/op_def_library.py\", line 748, in _apply_op_helper\n    op = g._create_op_internal(op_type_name, inputs, dtypes=None,\n  File \"/home/daniel/.local/lib/python3.8/site-packages/tensorflow/python/framework/ops.py\", line 3528, in _create_op_internal\n    ret = Operation(\n  File \"/home/daniel/.local/lib/python3.8/site-packages/tensorflow/python/framework/ops.py\", line 1990, in __init__\n    self._traceback = tf_stack.extract_stack()\n",
     "output_type": "error",
     "traceback": [
      "\u001B[0;31m---------------------------------------------------------------------------\u001B[0m",
      "\u001B[0;31mInvalidArgumentError\u001B[0m                      Traceback (most recent call last)",
      "\u001B[0;32m~/.local/lib/python3.8/site-packages/tensorflow/python/client/session.py\u001B[0m in \u001B[0;36m_do_call\u001B[0;34m(self, fn, *args)\u001B[0m\n\u001B[1;32m   1374\u001B[0m     \u001B[0;32mtry\u001B[0m\u001B[0;34m:\u001B[0m\u001B[0;34m\u001B[0m\u001B[0;34m\u001B[0m\u001B[0m\n\u001B[0;32m-> 1375\u001B[0;31m       \u001B[0;32mreturn\u001B[0m \u001B[0mfn\u001B[0m\u001B[0;34m(\u001B[0m\u001B[0;34m*\u001B[0m\u001B[0margs\u001B[0m\u001B[0;34m)\u001B[0m\u001B[0;34m\u001B[0m\u001B[0;34m\u001B[0m\u001B[0m\n\u001B[0m\u001B[1;32m   1376\u001B[0m     \u001B[0;32mexcept\u001B[0m \u001B[0merrors\u001B[0m\u001B[0;34m.\u001B[0m\u001B[0mOpError\u001B[0m \u001B[0;32mas\u001B[0m \u001B[0me\u001B[0m\u001B[0;34m:\u001B[0m\u001B[0;34m\u001B[0m\u001B[0;34m\u001B[0m\u001B[0m\n",
      "\u001B[0;32m~/.local/lib/python3.8/site-packages/tensorflow/python/client/session.py\u001B[0m in \u001B[0;36m_run_fn\u001B[0;34m(feed_dict, fetch_list, target_list, options, run_metadata)\u001B[0m\n\u001B[1;32m   1358\u001B[0m       \u001B[0mself\u001B[0m\u001B[0;34m.\u001B[0m\u001B[0m_extend_graph\u001B[0m\u001B[0;34m(\u001B[0m\u001B[0;34m)\u001B[0m\u001B[0;34m\u001B[0m\u001B[0;34m\u001B[0m\u001B[0m\n\u001B[0;32m-> 1359\u001B[0;31m       return self._call_tf_sessionrun(options, feed_dict, fetch_list,\n\u001B[0m\u001B[1;32m   1360\u001B[0m                                       target_list, run_metadata)\n",
      "\u001B[0;32m~/.local/lib/python3.8/site-packages/tensorflow/python/client/session.py\u001B[0m in \u001B[0;36m_call_tf_sessionrun\u001B[0;34m(self, options, feed_dict, fetch_list, target_list, run_metadata)\u001B[0m\n\u001B[1;32m   1450\u001B[0m                           run_metadata):\n\u001B[0;32m-> 1451\u001B[0;31m     return tf_session.TF_SessionRun_wrapper(self._session, options, feed_dict,\n\u001B[0m\u001B[1;32m   1452\u001B[0m                                             \u001B[0mfetch_list\u001B[0m\u001B[0;34m,\u001B[0m \u001B[0mtarget_list\u001B[0m\u001B[0;34m,\u001B[0m\u001B[0;34m\u001B[0m\u001B[0;34m\u001B[0m\u001B[0m\n",
      "\u001B[0;31mInvalidArgumentError\u001B[0m: You must feed a value for placeholder tensor 'data/foreground_volume' with dtype float\n\t [[{{node data/foreground_volume}}]]",
      "\nDuring handling of the above exception, another exception occurred:\n",
      "\u001B[0;31mInvalidArgumentError\u001B[0m                      Traceback (most recent call last)",
      "\u001B[0;32m<ipython-input-6-81ce66515051>\u001B[0m in \u001B[0;36m<module>\u001B[0;34m\u001B[0m\n\u001B[1;32m      1\u001B[0m \u001B[0mtf\u001B[0m\u001B[0;34m.\u001B[0m\u001B[0mcompat\u001B[0m\u001B[0;34m.\u001B[0m\u001B[0mv1\u001B[0m\u001B[0;34m.\u001B[0m\u001B[0mInteractiveSession\u001B[0m\u001B[0;34m(\u001B[0m\u001B[0;34m)\u001B[0m\u001B[0;34m.\u001B[0m\u001B[0mclose\u001B[0m\u001B[0;34m(\u001B[0m\u001B[0;34m)\u001B[0m\u001B[0;34m\u001B[0m\u001B[0;34m\u001B[0m\u001B[0m\n\u001B[1;32m      2\u001B[0m \u001B[0;34m\u001B[0m\u001B[0m\n\u001B[0;32m----> 3\u001B[0;31m train_model(data_dir, test_dir, train_dir, logs_dir, label_index_dir, classes, sample_rate, sample_length, window_size,\n\u001B[0m\u001B[1;32m      4\u001B[0m             \u001B[0mwindow_stride\u001B[0m\u001B[0;34m,\u001B[0m \u001B[0mtime_shift\u001B[0m\u001B[0;34m,\u001B[0m \u001B[0mfeature_bin_count\u001B[0m\u001B[0;34m,\u001B[0m \u001B[0mtiny_model\u001B[0m\u001B[0;34m,\u001B[0m \u001B[0mtraining_steps\u001B[0m\u001B[0;34m,\u001B[0m \u001B[0mlearning_rates\u001B[0m\u001B[0;34m,\u001B[0m\u001B[0;34m\u001B[0m\u001B[0;34m\u001B[0m\u001B[0m\n\u001B[1;32m      5\u001B[0m             validation_percentage, test_percentage, batch_size, seed, model_name)\n",
      "\u001B[0;32m~/PycharmProjects/tfg-tinyml/model training/audio_model_training.py\u001B[0m in \u001B[0;36mtrain_model\u001B[0;34m(data_dir, test_dir, train_dir, logs_dir, label_index_dir, classes, sample_rate, sample_length, window_size, window_stride, time_shift, feature_bin_count, tiny_model, training_steps, learning_rates, validation_percentage, test_percentage, batch_size, seed, model_name)\u001B[0m\n\u001B[1;32m    313\u001B[0m \u001B[0;34m\u001B[0m\u001B[0m\n\u001B[1;32m    314\u001B[0m         \u001B[0;31m# Se ejecuta una iteración del entrenamiento con los datos de muestra.\u001B[0m\u001B[0;34m\u001B[0m\u001B[0;34m\u001B[0m\u001B[0;34m\u001B[0m\u001B[0m\n\u001B[0;32m--> 315\u001B[0;31m         train_summary, train_accuracy, cross_entropy_value, _, _ = sess.run(\n\u001B[0m\u001B[1;32m    316\u001B[0m             [\n\u001B[1;32m    317\u001B[0m                 \u001B[0mmerged_summaries\u001B[0m\u001B[0;34m,\u001B[0m\u001B[0;34m\u001B[0m\u001B[0;34m\u001B[0m\u001B[0m\n",
      "\u001B[0;32m~/.local/lib/python3.8/site-packages/tensorflow/python/client/session.py\u001B[0m in \u001B[0;36mrun\u001B[0;34m(self, fetches, feed_dict, options, run_metadata)\u001B[0m\n\u001B[1;32m    965\u001B[0m \u001B[0;34m\u001B[0m\u001B[0m\n\u001B[1;32m    966\u001B[0m     \u001B[0;32mtry\u001B[0m\u001B[0;34m:\u001B[0m\u001B[0;34m\u001B[0m\u001B[0;34m\u001B[0m\u001B[0m\n\u001B[0;32m--> 967\u001B[0;31m       result = self._run(None, fetches, feed_dict, options_ptr,\n\u001B[0m\u001B[1;32m    968\u001B[0m                          run_metadata_ptr)\n\u001B[1;32m    969\u001B[0m       \u001B[0;32mif\u001B[0m \u001B[0mrun_metadata\u001B[0m\u001B[0;34m:\u001B[0m\u001B[0;34m\u001B[0m\u001B[0;34m\u001B[0m\u001B[0m\n",
      "\u001B[0;32m~/.local/lib/python3.8/site-packages/tensorflow/python/client/session.py\u001B[0m in \u001B[0;36m_run\u001B[0;34m(self, handle, fetches, feed_dict, options, run_metadata)\u001B[0m\n\u001B[1;32m   1188\u001B[0m     \u001B[0;31m# or if the call is a partial run that specifies feeds.\u001B[0m\u001B[0;34m\u001B[0m\u001B[0;34m\u001B[0m\u001B[0;34m\u001B[0m\u001B[0m\n\u001B[1;32m   1189\u001B[0m     \u001B[0;32mif\u001B[0m \u001B[0mfinal_fetches\u001B[0m \u001B[0;32mor\u001B[0m \u001B[0mfinal_targets\u001B[0m \u001B[0;32mor\u001B[0m \u001B[0;34m(\u001B[0m\u001B[0mhandle\u001B[0m \u001B[0;32mand\u001B[0m \u001B[0mfeed_dict_tensor\u001B[0m\u001B[0;34m)\u001B[0m\u001B[0;34m:\u001B[0m\u001B[0;34m\u001B[0m\u001B[0;34m\u001B[0m\u001B[0m\n\u001B[0;32m-> 1190\u001B[0;31m       results = self._do_run(handle, final_targets, final_fetches,\n\u001B[0m\u001B[1;32m   1191\u001B[0m                              feed_dict_tensor, options, run_metadata)\n\u001B[1;32m   1192\u001B[0m     \u001B[0;32melse\u001B[0m\u001B[0;34m:\u001B[0m\u001B[0;34m\u001B[0m\u001B[0;34m\u001B[0m\u001B[0m\n",
      "\u001B[0;32m~/.local/lib/python3.8/site-packages/tensorflow/python/client/session.py\u001B[0m in \u001B[0;36m_do_run\u001B[0;34m(self, handle, target_list, fetch_list, feed_dict, options, run_metadata)\u001B[0m\n\u001B[1;32m   1366\u001B[0m \u001B[0;34m\u001B[0m\u001B[0m\n\u001B[1;32m   1367\u001B[0m     \u001B[0;32mif\u001B[0m \u001B[0mhandle\u001B[0m \u001B[0;32mis\u001B[0m \u001B[0;32mNone\u001B[0m\u001B[0;34m:\u001B[0m\u001B[0;34m\u001B[0m\u001B[0;34m\u001B[0m\u001B[0m\n\u001B[0;32m-> 1368\u001B[0;31m       return self._do_call(_run_fn, feeds, fetches, targets, options,\n\u001B[0m\u001B[1;32m   1369\u001B[0m                            run_metadata)\n\u001B[1;32m   1370\u001B[0m     \u001B[0;32melse\u001B[0m\u001B[0;34m:\u001B[0m\u001B[0;34m\u001B[0m\u001B[0;34m\u001B[0m\u001B[0m\n",
      "\u001B[0;32m~/.local/lib/python3.8/site-packages/tensorflow/python/client/session.py\u001B[0m in \u001B[0;36m_do_call\u001B[0;34m(self, fn, *args)\u001B[0m\n\u001B[1;32m   1392\u001B[0m                     \u001B[0;34m'\\nsession_config.graph_options.rewrite_options.'\u001B[0m\u001B[0;34m\u001B[0m\u001B[0;34m\u001B[0m\u001B[0m\n\u001B[1;32m   1393\u001B[0m                     'disable_meta_optimizer = True')\n\u001B[0;32m-> 1394\u001B[0;31m       \u001B[0;32mraise\u001B[0m \u001B[0mtype\u001B[0m\u001B[0;34m(\u001B[0m\u001B[0me\u001B[0m\u001B[0;34m)\u001B[0m\u001B[0;34m(\u001B[0m\u001B[0mnode_def\u001B[0m\u001B[0;34m,\u001B[0m \u001B[0mop\u001B[0m\u001B[0;34m,\u001B[0m \u001B[0mmessage\u001B[0m\u001B[0;34m)\u001B[0m\u001B[0;34m\u001B[0m\u001B[0;34m\u001B[0m\u001B[0m\n\u001B[0m\u001B[1;32m   1395\u001B[0m \u001B[0;34m\u001B[0m\u001B[0m\n\u001B[1;32m   1396\u001B[0m   \u001B[0;32mdef\u001B[0m \u001B[0m_extend_graph\u001B[0m\u001B[0;34m(\u001B[0m\u001B[0mself\u001B[0m\u001B[0;34m)\u001B[0m\u001B[0;34m:\u001B[0m\u001B[0;34m\u001B[0m\u001B[0;34m\u001B[0m\u001B[0m\n",
      "\u001B[0;31mInvalidArgumentError\u001B[0m: You must feed a value for placeholder tensor 'data/foreground_volume' with dtype float\n\t [[node data/foreground_volume (defined at /home/daniel/PycharmProjects/tfg-tinyml/model training/audio_processor.py:153) ]]\n\nOriginal stack trace for 'data/foreground_volume':\n  File \"/usr/lib/python3.8/runpy.py\", line 194, in _run_module_as_main\n    return _run_code(code, main_globals, None,\n  File \"/usr/lib/python3.8/runpy.py\", line 87, in _run_code\n    exec(code, run_globals)\n  File \"/home/daniel/.local/lib/python3.8/site-packages/ipykernel_launcher.py\", line 16, in <module>\n    app.launch_new_instance()\n  File \"/home/daniel/.local/lib/python3.8/site-packages/traitlets/config/application.py\", line 845, in launch_instance\n    app.start()\n  File \"/home/daniel/.local/lib/python3.8/site-packages/ipykernel/kernelapp.py\", line 612, in start\n    self.io_loop.start()\n  File \"/home/daniel/.local/lib/python3.8/site-packages/tornado/platform/asyncio.py\", line 199, in start\n    self.asyncio_loop.run_forever()\n  File \"/usr/lib/python3.8/asyncio/base_events.py\", line 570, in run_forever\n    self._run_once()\n  File \"/usr/lib/python3.8/asyncio/base_events.py\", line 1859, in _run_once\n    handle._run()\n  File \"/usr/lib/python3.8/asyncio/events.py\", line 81, in _run\n    self._context.run(self._callback, *self._args)\n  File \"/home/daniel/.local/lib/python3.8/site-packages/tornado/ioloop.py\", line 688, in <lambda>\n    lambda f: self._run_callback(functools.partial(callback, future))\n  File \"/home/daniel/.local/lib/python3.8/site-packages/tornado/ioloop.py\", line 741, in _run_callback\n    ret = callback()\n  File \"/home/daniel/.local/lib/python3.8/site-packages/tornado/gen.py\", line 814, in inner\n    self.ctx_run(self.run)\n  File \"/home/daniel/.local/lib/python3.8/site-packages/tornado/gen.py\", line 775, in run\n    yielded = self.gen.send(value)\n  File \"/home/daniel/.local/lib/python3.8/site-packages/ipykernel/kernelbase.py\", line 378, in dispatch_queue\n    yield self.process_one()\n  File \"/home/daniel/.local/lib/python3.8/site-packages/tornado/gen.py\", line 250, in wrapper\n    runner = Runner(ctx_run, result, future, yielded)\n  File \"/home/daniel/.local/lib/python3.8/site-packages/tornado/gen.py\", line 741, in __init__\n    self.ctx_run(self.run)\n  File \"/home/daniel/.local/lib/python3.8/site-packages/tornado/gen.py\", line 775, in run\n    yielded = self.gen.send(value)\n  File \"/home/daniel/.local/lib/python3.8/site-packages/ipykernel/kernelbase.py\", line 362, in process_one\n    yield gen.maybe_future(dispatch(*args))\n  File \"/home/daniel/.local/lib/python3.8/site-packages/tornado/gen.py\", line 234, in wrapper\n    yielded = ctx_run(next, result)\n  File \"/home/daniel/.local/lib/python3.8/site-packages/ipykernel/kernelbase.py\", line 265, in dispatch_shell\n    yield gen.maybe_future(handler(stream, idents, msg))\n  File \"/home/daniel/.local/lib/python3.8/site-packages/tornado/gen.py\", line 234, in wrapper\n    yielded = ctx_run(next, result)\n  File \"/home/daniel/.local/lib/python3.8/site-packages/ipykernel/kernelbase.py\", line 540, in execute_request\n    self.do_execute(\n  File \"/home/daniel/.local/lib/python3.8/site-packages/tornado/gen.py\", line 234, in wrapper\n    yielded = ctx_run(next, result)\n  File \"/home/daniel/.local/lib/python3.8/site-packages/ipykernel/ipkernel.py\", line 302, in do_execute\n    res = shell.run_cell(code, store_history=store_history, silent=silent)\n  File \"/home/daniel/.local/lib/python3.8/site-packages/ipykernel/zmqshell.py\", line 539, in run_cell\n    return super(ZMQInteractiveShell, self).run_cell(*args, **kwargs)\n  File \"/home/daniel/.local/lib/python3.8/site-packages/IPython/core/interactiveshell.py\", line 2886, in run_cell\n    result = self._run_cell(\n  File \"/home/daniel/.local/lib/python3.8/site-packages/IPython/core/interactiveshell.py\", line 2932, in _run_cell\n    return runner(coro)\n  File \"/home/daniel/.local/lib/python3.8/site-packages/IPython/core/async_helpers.py\", line 68, in _pseudo_sync_runner\n    coro.send(None)\n  File \"/home/daniel/.local/lib/python3.8/site-packages/IPython/core/interactiveshell.py\", line 3155, in run_cell_async\n    has_raised = await self.run_ast_nodes(code_ast.body, cell_name,\n  File \"/home/daniel/.local/lib/python3.8/site-packages/IPython/core/interactiveshell.py\", line 3347, in run_ast_nodes\n    if (await self.run_code(code, result,  async_=asy)):\n  File \"/home/daniel/.local/lib/python3.8/site-packages/IPython/core/interactiveshell.py\", line 3427, in run_code\n    exec(code_obj, self.user_global_ns, self.user_ns)\n  File \"<ipython-input-6-81ce66515051>\", line 3, in <module>\n    train_model(data_dir, test_dir, train_dir, logs_dir, label_index_dir, classes, sample_rate, sample_length, window_size,\n  File \"/home/daniel/PycharmProjects/tfg-tinyml/model training/audio_model_training.py\", line 244, in train_model\n    audio_processor = AudioProcessor(data_dir, test_dir, logs_dir, label_index_dir, classes, sample_rate,\n  File \"/home/daniel/PycharmProjects/tfg-tinyml/model training/audio_processor.py\", line 96, in __init__\n    self.prepare_processing_protocol(model_settings)\n  File \"/home/daniel/PycharmProjects/tfg-tinyml/model training/audio_processor.py\", line 153, in prepare_processing_protocol\n    self.foreground_volume_placeholder_ = tf.compat.v1.placeholder(tf.float32, [], name='foreground_volume')\n  File \"/home/daniel/.local/lib/python3.8/site-packages/tensorflow/python/ops/array_ops.py\", line 3179, in placeholder\n    return gen_array_ops.placeholder(dtype=dtype, shape=shape, name=name)\n  File \"/home/daniel/.local/lib/python3.8/site-packages/tensorflow/python/ops/gen_array_ops.py\", line 6725, in placeholder\n    _, _, _op, _outputs = _op_def_library._apply_op_helper(\n  File \"/home/daniel/.local/lib/python3.8/site-packages/tensorflow/python/framework/op_def_library.py\", line 748, in _apply_op_helper\n    op = g._create_op_internal(op_type_name, inputs, dtypes=None,\n  File \"/home/daniel/.local/lib/python3.8/site-packages/tensorflow/python/framework/ops.py\", line 3528, in _create_op_internal\n    ret = Operation(\n  File \"/home/daniel/.local/lib/python3.8/site-packages/tensorflow/python/framework/ops.py\", line 1990, in __init__\n    self._traceback = tf_stack.extract_stack()\n"
     ]
    }
   ],
   "source": [
    "tf.compat.v1.InteractiveSession().close()\n",
    "\n",
    "train_model(data_dir, test_dir, train_dir, logs_dir, label_index_dir, classes, sample_rate, sample_length, window_size,\n",
    "            window_stride, time_shift, feature_bin_count, tiny_model, training_steps, learning_rates,\n",
    "            validation_percentage, test_percentage, batch_size, seed, model_name)\n"
   ],
   "metadata": {
    "collapsed": false,
    "pycharm": {
     "name": "#%%"
    }
   }
  }
 ],
 "metadata": {
  "kernelspec": {
   "display_name": "Python 3",
   "language": "python",
   "name": "python3"
  },
  "language_info": {
   "codemirror_mode": {
    "name": "ipython",
    "version": 2
   },
   "file_extension": ".py",
   "mimetype": "text/x-python",
   "name": "python",
   "nbconvert_exporter": "python",
   "pygments_lexer": "ipython2",
   "version": "2.7.6"
  }
 },
 "nbformat": 4,
 "nbformat_minor": 0
}