{
 "cells": [
  {
   "cell_type": "markdown",
   "source": [
    "# Audio model initial evaluation\n",
    "Se evalúa un modelo TensorFlow de sonido entrenado.\n",
    "## Imports"
   ],
   "metadata": {
    "collapsed": false,
    "pycharm": {
     "name": "#%% md\n"
    }
   }
  },
  {
   "cell_type": "code",
   "execution_count": 1,
   "metadata": {
    "collapsed": true
   },
   "outputs": [],
   "source": [
    "import tensorflow as tf\n",
    "from tensorflow.keras.models import load_model\n",
    "from tensorflow.keras.preprocessing.image import load_img, img_to_array\n",
    "import os\n",
    "from joblib import load\n",
    "import matplotlib.pyplot as plt\n",
    "import numpy as np\n",
    "from sklearn.metrics import confusion_matrix, classification_report\n",
    "import seaborn as sns\n",
    "\n",
    "from audio_model_evaluation import *"
   ]
  },
  {
   "cell_type": "markdown",
   "source": [
    "## Parámetros"
   ],
   "metadata": {
    "collapsed": false
   }
  },
  {
   "cell_type": "code",
   "execution_count": 2,
   "outputs": [],
   "source": [
    "project_dir = \"/home/daniel/PycharmProjects/tfg-tinyml\"\n",
    "saved_models_dir = f\"{project_dir}/saved models/audio\"\n",
    "label_index_dir = f\"{saved_models_dir}/label index mappings\"\n",
    "model_name = f\"MicroAudioDataModel\"\n",
    "# model_name = f\"ExtAudioDataModel\"\n",
    "model_dir = f\"{saved_models_dir}/tensorflow/{model_name}\"\n",
    "test_dir = f\"{project_dir}/samples/microcontroller/audio/test\"\n",
    "# test_dir = f\"{project_dir}/samples/external/audio/test\"\n",
    "# test_dir = f\"{project_dir}/samples/microcontroller/audio/all\""
   ],
   "metadata": {
    "collapsed": false,
    "pycharm": {
     "name": "#%%\n"
    }
   }
  },
  {
   "cell_type": "markdown",
   "source": [
    "## Carga del modelo\n",
    "Cargamos un modelo y mostramos un resumen de su estructura."
   ],
   "metadata": {
    "collapsed": false
   }
  },
  {
   "cell_type": "code",
   "execution_count": 3,
   "outputs": [
    {
     "name": "stdout",
     "output_type": "stream",
     "text": [
      "Model: \"MicroAudioDataModel\"\n",
      "_________________________________________________________________\n",
      "Layer (type)                 Output Shape              Param #   \n",
      "=================================================================\n",
      "resizing (Resizing)          (None, 32, 32, 1)         0         \n",
      "_________________________________________________________________\n",
      "normalization (Normalization (None, 32, 32, 1)         3         \n",
      "_________________________________________________________________\n",
      "conv2d (Conv2D)              (None, 13, 12, 8)         648       \n",
      "_________________________________________________________________\n",
      "max_pooling2d (MaxPooling2D) (None, 6, 6, 8)           0         \n",
      "_________________________________________________________________\n",
      "dropout (Dropout)            (None, 6, 6, 8)           0         \n",
      "_________________________________________________________________\n",
      "flatten (Flatten)            (None, 288)               0         \n",
      "_________________________________________________________________\n",
      "dense (Dense)                (None, 4)                 1156      \n",
      "=================================================================\n",
      "Total params: 1,807\n",
      "Trainable params: 1,804\n",
      "Non-trainable params: 3\n",
      "_________________________________________________________________\n"
     ]
    }
   ],
   "source": [
    "model = load_model(model_dir)\n",
    "model.summary()\n",
    "\n",
    "class_names = load(f\"{label_index_dir}/{model_name}.joblib\")\n",
    "class_indexes = {}\n",
    "for index, name in enumerate(class_names):\n",
    "    class_indexes[name] = index"
   ],
   "metadata": {
    "collapsed": false,
    "pycharm": {
     "name": "#%%\n"
    }
   }
  },
  {
   "cell_type": "markdown",
   "source": [
    "## Carga de datos de test\n",
    "Cargamos los datos de test sobre los que se realizará inferencias."
   ],
   "metadata": {
    "collapsed": false,
    "pycharm": {
     "name": "#%% md\n"
    }
   }
  },
  {
   "cell_type": "code",
   "execution_count": 4,
   "outputs": [
    {
     "name": "stdout",
     "output_type": "stream",
     "text": [
      "Se usarán 91 muestras.\n"
     ]
    }
   ],
   "source": [
    "test_dataset = get_test_dataset(test_dir)\n",
    "\n",
    "test_audios = []\n",
    "test_labels = []\n",
    "for audio, label in test_dataset:\n",
    "    test_audios.append(audio.numpy())\n",
    "    test_labels.append(label.numpy())\n",
    "test_audios = np.array(test_audios)\n",
    "test_labels = np.array(test_labels)"
   ],
   "metadata": {
    "collapsed": false,
    "pycharm": {
     "name": "#%%\n"
    }
   }
  },
  {
   "cell_type": "markdown",
   "source": [
    "## Inferencia\n",
    "Se realiza inferencia sobre los archivos de la carpeta test y se muestran los resultados."
   ],
   "metadata": {
    "collapsed": false
   }
  },
  {
   "cell_type": "code",
   "execution_count": 5,
   "outputs": [],
   "source": [
    "predictions = np.argmax(model.predict(test_audios), axis=1)"
   ],
   "metadata": {
    "collapsed": false,
    "pycharm": {
     "name": "#%%\n"
    }
   }
  },
  {
   "cell_type": "markdown",
   "source": [
    "## Visualización de métricas\n",
    "\n",
    "Se muestran datos acerca del comportamiento general del modelo al evaluar las muestras."
   ],
   "metadata": {
    "collapsed": false
   }
  },
  {
   "cell_type": "code",
   "execution_count": 6,
   "outputs": [
    {
     "data": {
      "text/plain": "<Figure size 720x576 with 2 Axes>",
      "image/png": "[encoded data removed]"
     },
     "metadata": {
      "needs_background": "light"
     },
     "output_type": "display_data"
    },
    {
     "name": "stdout",
     "output_type": "stream",
     "text": [
      "              precision    recall  f1-score   support\n",
      "\n",
      "          no       0.96      1.00      0.98        24\n",
      "     silence       1.00      1.00      1.00        21\n",
      "     unknown       1.00      0.90      0.95        21\n",
      "         yes       0.96      1.00      0.98        25\n",
      "\n",
      "    accuracy                           0.98        91\n",
      "   macro avg       0.98      0.98      0.98        91\n",
      "weighted avg       0.98      0.98      0.98        91\n",
      "\n"
     ]
    }
   ],
   "source": [
    "confusion_mtx = confusion_matrix(test_labels, predictions)\n",
    "plt.figure(figsize=(10, 8))\n",
    "sns.heatmap(confusion_mtx, xticklabels=class_names, yticklabels=class_names,\n",
    "            annot=True, fmt='g')\n",
    "plt.xlabel('Prediction')\n",
    "plt.ylabel('Label')\n",
    "plt.title(\"Confusion matrix\")\n",
    "plt.show()\n",
    "print(classification_report(test_labels, predictions, target_names=class_names))"
   ],
   "metadata": {
    "collapsed": false,
    "pycharm": {
     "name": "#%%\n"
    }
   }
  }
 ],
 "metadata": {
  "kernelspec": {
   "display_name": "Python 3",
   "language": "python",
   "name": "python3"
  },
  "language_info": {
   "codemirror_mode": {
    "name": "ipython",
    "version": 2
   },
   "file_extension": ".py",
   "mimetype": "text/x-python",
   "name": "python",
   "nbconvert_exporter": "python",
   "pygments_lexer": "ipython2",
   "version": "2.7.6"
  }
 },
 "nbformat": 4,
 "nbformat_minor": 0
}