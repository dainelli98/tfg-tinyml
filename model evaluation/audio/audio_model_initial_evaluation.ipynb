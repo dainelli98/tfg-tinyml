{
 "cells": [
  {
   "cell_type": "markdown",
   "source": [
    "# Audio model initial evaluation\n",
    "Se evalúa un modelo TensorFlow de sonido entrenado.\n",
    "## Imports"
   ],
   "metadata": {
    "collapsed": false,
    "pycharm": {
     "name": "#%% md\n"
    }
   }
  },
  {
   "cell_type": "code",
   "execution_count": 1,
   "metadata": {
    "collapsed": true
   },
   "outputs": [],
   "source": [
    "from tensorflow.keras.models import load_model\n",
    "from joblib import load\n",
    "import matplotlib.pyplot as plt\n",
    "import numpy as np\n",
    "from sklearn.metrics import confusion_matrix, classification_report\n",
    "import seaborn as sns\n",
    "\n",
    "from audio_model_evaluation import get_dataset, DIGITS, MICRO, EXT, PRUN, QAT"
   ]
  },
  {
   "cell_type": "markdown",
   "source": [
    "## Parámetros"
   ],
   "metadata": {
    "collapsed": false
   }
  },
  {
   "cell_type": "code",
   "execution_count": 2,
   "outputs": [],
   "source": [
    "model = QAT\n",
    "data_origin = EXT\n",
    "\n",
    "project_dir = \"/home/daniel/PycharmProjects/tfg-tinyml\"\n",
    "\n",
    "if model in [EXT, PRUN, QAT]:\n",
    "    if model == EXT:\n",
    "        model_name = \"ExtAudioDataModel\"\n",
    "    elif model == PRUN:\n",
    "        model_name = \"ExtAudioDataModelPrun\"\n",
    "    else:\n",
    "        model_name = \"ExtAudioDataModelQAT\"\n",
    "\n",
    "    if data_origin == EXT:\n",
    "        test_dir = f\"{project_dir}/samples/external/audio/test\"\n",
    "    else:\n",
    "        test_dir = f\"{project_dir}/samples/microcontroller/audio/all\"\n",
    "else:\n",
    "    model_name = \"MicroAudioDataModel\"\n",
    "\n",
    "    if data_origin == EXT:\n",
    "        test_dir = f\"{project_dir}/samples/external/audio/all\"\n",
    "    else:\n",
    "        test_dir = f\"{project_dir}/samples/microcontroller/audio/test\"\n",
    "\n",
    "saved_models_dir = f\"{project_dir}/saved models/audio\"\n",
    "label_index_dir = f\"{saved_models_dir}/label index mappings\"\n",
    "model_dir = f\"{saved_models_dir}/tensorflow/{model_name}\""
   ],
   "metadata": {
    "collapsed": false,
    "pycharm": {
     "name": "#%%\n"
    }
   }
  },
  {
   "cell_type": "markdown",
   "source": [
    "## Carga del modelo\n",
    "Cargamos un modelo y mostramos un resumen de su estructura."
   ],
   "metadata": {
    "collapsed": false
   }
  },
  {
   "cell_type": "code",
   "execution_count": 3,
   "outputs": [
    {
     "name": "stdout",
     "output_type": "stream",
     "text": [
      "Model: \"ExtAudioDataModelQAT\"\n",
      "_________________________________________________________________\n",
      "Layer (type)                 Output Shape              Param #   \n",
      "=================================================================\n",
      "quantize_layer (QuantizeLaye (None, 40, 49, 1)         3         \n",
      "_________________________________________________________________\n",
      "quant_conv2d (QuantizeWrappe (None, 17, 20, 8)         667       \n",
      "_________________________________________________________________\n",
      "quant_max_pooling2d (Quantiz (None, 8, 10, 8)          1         \n",
      "_________________________________________________________________\n",
      "quant_dropout (QuantizeWrapp (None, 8, 10, 8)          1         \n",
      "_________________________________________________________________\n",
      "quant_flatten (QuantizeWrapp (None, 640)               1         \n",
      "_________________________________________________________________\n",
      "quant_dense (QuantizeWrapper (None, 4)                 2569      \n",
      "=================================================================\n",
      "Total params: 3,242\n",
      "Trainable params: 3,212\n",
      "Non-trainable params: 30\n",
      "_________________________________________________________________\n"
     ]
    }
   ],
   "source": [
    "model = load_model(model_dir)\n",
    "model.summary()\n",
    "\n",
    "class_names = load(f\"{label_index_dir}/{model_name}.joblib\")\n",
    "class_indexes = {}\n",
    "for index, name in enumerate(class_names):\n",
    "    class_indexes[name] = index"
   ],
   "metadata": {
    "collapsed": false,
    "pycharm": {
     "name": "#%%\n"
    }
   }
  },
  {
   "cell_type": "markdown",
   "source": [
    "## Carga de datos de test\n",
    "Cargamos los datos de test sobre los que se realizará inferencias."
   ],
   "metadata": {
    "collapsed": false,
    "pycharm": {
     "name": "#%% md\n"
    }
   }
  },
  {
   "cell_type": "code",
   "execution_count": 4,
   "outputs": [
    {
     "name": "stdout",
     "output_type": "stream",
     "text": [
      "Using 3230 samples.\n",
      "WARNING:tensorflow:From /home/daniel/.local/lib/python3.8/site-packages/tensorflow/python/ops/parallel_for/pfor.py:2380: calling gather (from tensorflow.python.ops.array_ops) with validate_indices is deprecated and will be removed in a future version.\n",
      "Instructions for updating:\n",
      "The `validate_indices` argument has no effect. Indices are always validated on CPU and never validated on GPU.\n",
      "WARNING:tensorflow:Using a while_loop for converting IO>AudioResample\n"
     ]
    }
   ],
   "source": [
    "test_dataset = get_dataset(test_dir)\n",
    "\n",
    "test_audios = []\n",
    "test_labels = []\n",
    "for audio, label in test_dataset:\n",
    "    test_audios.append(audio.numpy())\n",
    "    test_labels.append(label.numpy())\n",
    "test_audios = np.array(test_audios)\n",
    "test_labels = np.array(test_labels)"
   ],
   "metadata": {
    "collapsed": false,
    "pycharm": {
     "name": "#%%\n"
    }
   }
  },
  {
   "cell_type": "markdown",
   "source": [
    "## Inferencia\n",
    "Se realiza inferencia sobre los archivos de la carpeta test y se muestran los resultados."
   ],
   "metadata": {
    "collapsed": false
   }
  },
  {
   "cell_type": "code",
   "execution_count": 5,
   "outputs": [],
   "source": [
    "predictions = np.argmax(model.predict(test_audios), axis=1)"
   ],
   "metadata": {
    "collapsed": false,
    "pycharm": {
     "name": "#%%\n"
    }
   }
  },
  {
   "cell_type": "markdown",
   "source": [
    "## Visualización de métricas\n",
    "\n",
    "Se muestran datos acerca del comportamiento general del modelo al evaluar las muestras."
   ],
   "metadata": {
    "collapsed": false
   }
  },
  {
   "cell_type": "code",
   "execution_count": 6,
   "outputs": [
    {
     "data": {
      "text/plain": "<Figure size 720x576 with 2 Axes>",
      "image/png": "[encoded data removed]"
     },
     "metadata": {
      "needs_background": "light"
     },
     "output_type": "display_data"
    },
    {
     "name": "stdout",
     "output_type": "stream",
     "text": [
      "              precision    recall  f1-score   support\n",
      "\n",
      "          no    0.91542   0.85152   0.88231       788\n",
      "     silence    0.97297   0.98507   0.97899       804\n",
      "     unknown    0.82131   0.89157   0.85500       830\n",
      "         yes    0.94373   0.91337   0.92830       808\n",
      "\n",
      "    accuracy                        0.91053      3230\n",
      "   macro avg    0.91336   0.91038   0.91115      3230\n",
      "weighted avg    0.91264   0.91053   0.91086      3230\n",
      "\n"
     ]
    }
   ],
   "source": [
    "confusion_mtx = confusion_matrix(test_labels, predictions)\n",
    "plt.figure(figsize=(10, 8))\n",
    "sns.heatmap(confusion_mtx, xticklabels=class_names, yticklabels=class_names, annot=True, fmt='g')\n",
    "plt.xlabel('Prediction')\n",
    "plt.ylabel('Label')\n",
    "plt.title(\"Confusion matrix\")\n",
    "plt.show()\n",
    "print(classification_report(test_labels, predictions, target_names=class_names, digits=DIGITS))"
   ],
   "metadata": {
    "collapsed": false,
    "pycharm": {
     "name": "#%%\n"
    }
   }
  }
 ],
 "metadata": {
  "kernelspec": {
   "display_name": "Python 3",
   "language": "python",
   "name": "python3"
  },
  "language_info": {
   "codemirror_mode": {
    "name": "ipython",
    "version": 2
   },
   "file_extension": ".py",
   "mimetype": "text/x-python",
   "name": "python",
   "nbconvert_exporter": "python",
   "pygments_lexer": "ipython2",
   "version": "2.7.6"
  }
 },
 "nbformat": 4,
 "nbformat_minor": 0
}