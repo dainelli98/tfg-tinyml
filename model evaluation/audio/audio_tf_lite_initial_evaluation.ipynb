{
 "cells": [
  {
   "cell_type": "markdown",
   "metadata": {
    "collapsed": true,
    "pycharm": {
     "name": "#%% md\n"
    }
   },
   "source": [
    "# Evaluación inicial de modelos de audio TensorFlow Lite\n",
    "\n",
    "Este notebook sirve para probar el funcionamiento de un modelo de audio TensorFlow Lite.\n",
    "## Imports"
   ]
  },
  {
   "cell_type": "code",
   "execution_count": 1,
   "outputs": [],
   "source": [
    "import tensorflow as tf\n",
    "import os\n",
    "from joblib import load\n",
    "import matplotlib.pyplot as plt\n",
    "import numpy as np\n",
    "from sklearn.metrics import confusion_matrix, classification_report\n",
    "import seaborn as sns\n",
    "import time\n",
    "\n",
    "from audio_model_evaluation import get_dataset, DIGITS"
   ],
   "metadata": {
    "collapsed": false,
    "pycharm": {
     "name": "#%%\n"
    }
   }
  },
  {
   "cell_type": "markdown",
   "source": [
    "## Parámetros\n",
    "Parámetros que se utilizan para el test."
   ],
   "metadata": {
    "collapsed": false
   }
  },
  {
   "cell_type": "code",
   "execution_count": 2,
   "outputs": [],
   "source": [
    "quantized = True\n",
    "project_dir = \"/home/daniel/PycharmProjects/tfg-tinyml\"\n",
    "saved_models_dir = f\"{project_dir}/saved models/audio\"\n",
    "label_index_dir = f\"{saved_models_dir}/label index mappings\"\n",
    "# model_name = f\"ExtAudioDataModel\"\n",
    "model_name = f\"ExtAudioDataModelQAT\"\n",
    "\n",
    "label_index_path = f\"{label_index_dir}/{model_name}.joblib\"\n",
    "test_dir = f\"{project_dir}/samples/external/audio/test\"\n",
    "\n",
    "if quantized and model_name[-3:] != \"QAT\":\n",
    "    model_name = f\"{model_name}Quant\"\n",
    "\n",
    "model_path = f\"{saved_models_dir}/tensorflow lite/{model_name}.tflite\""
   ],
   "metadata": {
    "collapsed": false,
    "pycharm": {
     "name": "#%%\n"
    }
   }
  },
  {
   "cell_type": "markdown",
   "source": [
    "## Carga del modelo\n",
    "Cargamos un modelo de TensorFlow Lite."
   ],
   "metadata": {
    "collapsed": false
   }
  },
  {
   "cell_type": "code",
   "execution_count": 3,
   "outputs": [
    {
     "name": "stdout",
     "output_type": "stream",
     "text": [
      "{'name': 'serving_default_input_1:0', 'index': 0, 'shape': array([ 1, 40, 49,  1], dtype=int32), 'shape_signature': array([-1, 40, 49,  1], dtype=int32), 'dtype': <class 'numpy.int8'>, 'quantization': (0.3137255311012268, 127), 'quantization_parameters': {'scales': array([0.31372553], dtype=float32), 'zero_points': array([127], dtype=int32), 'quantized_dimension': 0}, 'sparsity_parameters': {}}\n",
      "{'name': 'StatefulPartitionedCall:0', 'index': 9, 'shape': array([1, 4], dtype=int32), 'shape_signature': array([-1,  4], dtype=int32), 'dtype': <class 'numpy.int8'>, 'quantization': (0.3091215491294861, 81), 'quantization_parameters': {'scales': array([0.30912155], dtype=float32), 'zero_points': array([81], dtype=int32), 'quantized_dimension': 0}, 'sparsity_parameters': {}}\n"
     ]
    }
   ],
   "source": [
    "interpreter = tf.lite.Interpreter(model_path=model_path)\n",
    "interpreter.allocate_tensors()\n",
    "\n",
    "input_details = interpreter.get_input_details()[0]\n",
    "output_details = interpreter.get_output_details()[0]\n",
    "\n",
    "print(input_details)\n",
    "print(output_details)\n",
    "\n",
    "class_names = load(label_index_path)\n",
    "class_indexes = {}\n",
    "for index, name in enumerate(class_names):\n",
    "    class_indexes[name] = index"
   ],
   "metadata": {
    "collapsed": false,
    "pycharm": {
     "name": "#%%\n"
    }
   }
  },
  {
   "cell_type": "markdown",
   "source": [
    "## Carga de datos\n",
    "\n",
    "Cargamos los datos que se utilizarán para el entrenamiento."
   ],
   "metadata": {
    "collapsed": false,
    "pycharm": {
     "name": "#%% md\n"
    }
   }
  },
  {
   "cell_type": "code",
   "execution_count": 4,
   "outputs": [
    {
     "name": "stdout",
     "output_type": "stream",
     "text": [
      "Using 3230 samples.\n",
      "WARNING:tensorflow:From /home/daniel/.local/lib/python3.8/site-packages/tensorflow/python/ops/parallel_for/pfor.py:2380: calling gather (from tensorflow.python.ops.array_ops) with validate_indices is deprecated and will be removed in a future version.\n",
      "Instructions for updating:\n",
      "The `validate_indices` argument has no effect. Indices are always validated on CPU and never validated on GPU.\n",
      "WARNING:tensorflow:Using a while_loop for converting IO>AudioResample\n"
     ]
    }
   ],
   "source": [
    "test_dataset = get_dataset(test_dir, prefetch=False)\n",
    "test_dataset = test_dataset.as_numpy_iterator()"
   ],
   "metadata": {
    "collapsed": false,
    "pycharm": {
     "name": "#%%\n"
    }
   }
  },
  {
   "cell_type": "markdown",
   "source": [
    "## Inferencia\n",
    "Se realiza inferencia sobre los archivos de la carpeta test y se muestran los resultados."
   ],
   "metadata": {
    "collapsed": false
   }
  },
  {
   "cell_type": "code",
   "execution_count": 5,
   "outputs": [],
   "source": [
    "predictions = []\n",
    "true_labels = []\n",
    "times = []\n",
    "\n",
    "for spectrogram, label in test_dataset:\n",
    "    true_labels.append(label)\n",
    "\n",
    "    if quantized:\n",
    "        input_scale, input_zero_point = input_details[\"quantization\"]\n",
    "        spectrogram = spectrogram / input_scale + input_zero_point\n",
    "    spectrogram = np.expand_dims(spectrogram, axis=0).astype(input_details[\"dtype\"])\n",
    "\n",
    "    interpreter.set_tensor(input_details[\"index\"], spectrogram)\n",
    "\n",
    "    t_ini = time.time()\n",
    "    interpreter.invoke()\n",
    "    t_end = time.time()\n",
    "    elapsed = (t_end - t_ini) * 1000  # ms\n",
    "    times.append(elapsed)\n",
    "\n",
    "    prediction = interpreter.get_tensor(output_details[\"index\"])[0]\n",
    "\n",
    "    predicted_class = prediction.argmax()\n",
    "    predictions.append(predicted_class)"
   ],
   "metadata": {
    "collapsed": false,
    "pycharm": {
     "name": "#%%\n"
    }
   }
  },
  {
   "cell_type": "markdown",
   "source": [
    "## Visualización de métricas\n",
    "\n",
    "Se muestran datos acerca del comportamiento general del modelo al evaluar las muestras."
   ],
   "metadata": {
    "collapsed": false
   }
  },
  {
   "cell_type": "code",
   "execution_count": 6,
   "outputs": [
    {
     "data": {
      "text/plain": "<Figure size 720x576 with 2 Axes>",
      "image/png": "[encoded data removed]"
     },
     "metadata": {
      "needs_background": "light"
     },
     "output_type": "display_data"
    },
    {
     "name": "stdout",
     "output_type": "stream",
     "text": [
      "              precision    recall  f1-score   support\n",
      "\n",
      "          no    0.87239   0.90228   0.88709       788\n",
      "     silence    0.97084   0.99378   0.98218       804\n",
      "     unknown    0.88357   0.82289   0.85215       830\n",
      "         yes    0.92186   0.93441   0.92809       808\n",
      "\n",
      "    accuracy                        0.91269      3230\n",
      "   macro avg    0.91216   0.91334   0.91238      3230\n",
      "weighted avg    0.91214   0.91269   0.91204      3230\n",
      "\n",
      "Model size 5.609375 Kb\n",
      "Average time: 1.4733555147153305 ms\n",
      "Max time: 6.808996200561523 ms\n",
      "Min time: 0.6239414215087891 ms\n",
      "Quantized models perform slower as they are intended to work on ARM devices.\n"
     ]
    }
   ],
   "source": [
    "confusion_mtx = confusion_matrix(true_labels, predictions)\n",
    "plt.figure(figsize=(10, 8))\n",
    "sns.heatmap(confusion_mtx, xticklabels=class_names, yticklabels=class_names,\n",
    "            annot=True, fmt='g')\n",
    "plt.xlabel('Prediction')\n",
    "plt.ylabel('Label')\n",
    "plt.title(\"Confusion matrix\")\n",
    "plt.show()\n",
    "print(classification_report(true_labels, predictions, target_names=class_names, digits=DIGITS))\n",
    "\n",
    "avg_time = sum(times) / len(times)\n",
    "max_time = max(times)\n",
    "min_time = min(times)\n",
    "\n",
    "print(f\"Model size {os.path.getsize(model_path) / 1024} Kb\")\n",
    "\n",
    "print(f\"Average time: {avg_time} ms\\nMax time: {max_time} ms\\nMin time: {min_time} ms\")\n",
    "\n",
    "if quantized:\n",
    "    print(\"Quantized models perform slower as they are intended to work on ARM devices.\")"
   ],
   "metadata": {
    "collapsed": false,
    "pycharm": {
     "name": "#%%\n"
    }
   }
  }
 ],
 "metadata": {
  "kernelspec": {
   "display_name": "Python 3",
   "language": "python",
   "name": "python3"
  },
  "language_info": {
   "codemirror_mode": {
    "name": "ipython",
    "version": 2
   },
   "file_extension": ".py",
   "mimetype": "text/x-python",
   "name": "python",
   "nbconvert_exporter": "python",
   "pygments_lexer": "ipython2",
   "version": "2.7.6"
  }
 },
 "nbformat": 4,
 "nbformat_minor": 0
}